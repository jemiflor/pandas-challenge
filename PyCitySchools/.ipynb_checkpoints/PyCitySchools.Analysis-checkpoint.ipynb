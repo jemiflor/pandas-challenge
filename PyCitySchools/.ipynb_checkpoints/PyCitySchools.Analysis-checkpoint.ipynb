{
 "cells": [
  {
   "cell_type": "code",
   "execution_count": null,
   "metadata": {},
   "outputs": [],
   "source": [
    "# Dependencies and Setup\n",
    "import pandas as pd\n",
    "\n",
    "# set options\n",
    "pd.options.display.float_format = '{:20,.2f}'.format\n",
    "\n",
    "# Data files for analysis\n",
    "pyCitySchoolsFile = \"Resources/schools_complete.csv\"\n",
    "pyCityStudentsFile = \"Resources/students_complete.csv\"\n",
    "\n",
    "# Load data into DataFrames for analysis\n",
    "pyCitySchools = pd.read_csv(pyCitySchoolsFile)\n",
    "pyCityStudents = pd.read_csv(pyCityStudentsFile)\n",
    "\n",
    "# merge school and students DataFrames\n",
    "pyCitySchoolStudents = pd.merge(pyCitySchools, pyCityStudents, how=\"left\", on=[\"school_name\"])\n"
   ]
  },
  {
   "cell_type": "code",
   "execution_count": null,
   "metadata": {},
   "outputs": [],
   "source": [
    "studentsPassedInMath = pyCityStudents[pyCityStudents.math_score >= 70 ]\n",
    "studentsPassedInReading = pyCityStudents[pyCityStudents.reading_score >= 70 ]\n",
    "studentsPassed = pyCityStudents[(pyCityStudents.reading_score >= 70) & (pyCityStudents.math_score >= 70) ]\n",
    "\n",
    "districtSummaryDf = pd.DataFrame({\n",
    "    \"Total Schools\" : [pyCitySchools[\"school_name\"].count()],\n",
    "    \"Total Students\": [pyCityStudents[\"student_name\"].count()],\n",
    "    \"Total Budget\" :  [pyCitySchools[\"budget\"].sum()],\n",
    "    \"Average Math Score\" :  [pyCityStudents[\"math_score\"].mean()],\n",
    "    \"Average Reading Score\" :  [pyCityStudents[\"reading_score\"].mean()],\n",
    "    \"% Passing Math\" :  [studentsPassedInMath[\"student_name\"].count() * 100 / pyCityStudents[\"student_name\"].count()],\n",
    "    \"% Passing Reading\" :  [studentsPassedInReading[\"student_name\"].count() * 100 / pyCityStudents[\"student_name\"].count()],\n",
    "    \"% Overall Passing\" :  [studentsPassed[\"student_name\"].count() * 100 / pyCityStudents[\"student_name\"].count()]\n",
    "})\n",
    "\n",
    "\n",
    "districtSummaryDf.style.format({\n",
    "    \"Total Students\": \"{:,}\",\n",
    "    \"Total Budget\": \"${:,.2f}\"\n",
    "})"
   ]
  },
  {
   "cell_type": "code",
   "execution_count": null,
   "metadata": {},
   "outputs": [],
   "source": []
  }
 ],
 "metadata": {
  "kernelspec": {
   "display_name": "Python 3",
   "language": "python",
   "name": "python3"
  },
  "language_info": {
   "codemirror_mode": {
    "name": "ipython",
    "version": 3
   },
   "file_extension": ".py",
   "mimetype": "text/x-python",
   "name": "python",
   "nbconvert_exporter": "python",
   "pygments_lexer": "ipython3",
   "version": "3.6.10"
  }
 },
 "nbformat": 4,
 "nbformat_minor": 4
}
